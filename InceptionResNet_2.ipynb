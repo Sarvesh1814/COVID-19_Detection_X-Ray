{
  "cells": [
    {
      "cell_type": "code",
      "execution_count": null,
      "metadata": {
        "colab": {
          "base_uri": "https://localhost:8080/"
        },
        "id": "gznllPrTcaKm",
        "outputId": "a0e77be0-cb9f-4a26-a3b5-a508fb9cbcf8"
      },
      "outputs": [
        {
          "output_type": "stream",
          "name": "stdout",
          "text": [
            "Mounted at /content/drive\n"
          ]
        }
      ],
      "source": [
        "from google.colab import drive\n",
        "drive.mount('/content/drive')"
      ]
    },
    {
      "cell_type": "code",
      "execution_count": null,
      "metadata": {
        "id": "3hIOe2kneuGF"
      },
      "outputs": [],
      "source": [
        "path = \"/content/drive/MyDrive/COVID-19_Radiography_Dataset\""
      ]
    },
    {
      "cell_type": "markdown",
      "source": [
        "### Important Libraries "
      ],
      "metadata": {
        "id": "l3tG99ex-9sd"
      }
    },
    {
      "cell_type": "code",
      "execution_count": null,
      "metadata": {
        "id": "jMnwp7Bifiti"
      },
      "outputs": [],
      "source": [
        "import numpy as np\n",
        "import pandas as pd\n",
        "import os\n",
        "\n",
        "import tensorflow as tf\n",
        "from tensorflow.keras.preprocessing.image import ImageDataGenerator\n",
        "\n",
        "from tensorflow.keras.layers import Dense, GlobalAveragePooling2D, Dropout, BatchNormalization,Flatten\n",
        "from tensorflow.keras.models import Sequential\n",
        "from tensorflow.keras.optimizers import Adam\n",
        "\n",
        "import seaborn as sns\n",
        "\n",
        "from sklearn.metrics import classification_report, confusion_matrix\n",
        "import glob\n",
        "import matplotlib.pyplot as plt\n",
        "import cv2"
      ]
    },
    {
      "cell_type": "markdown",
      "source": [
        "### Image Data Generators "
      ],
      "metadata": {
        "id": "R82bCshy-hSC"
      }
    },
    {
      "cell_type": "code",
      "execution_count": null,
      "metadata": {
        "id": "5ek_mY-lvghK"
      },
      "outputs": [],
      "source": [
        "train=path+\"/Train\"\n",
        "val=path+\"/Val\"\n",
        "test=path+\"/Test\""
      ]
    },
    {
      "cell_type": "code",
      "execution_count": null,
      "metadata": {
        "colab": {
          "base_uri": "https://localhost:8080/"
        },
        "id": "eQAoMvydqYZo",
        "outputId": "7f4f1f5a-76cf-41db-9647-fee29a89682d"
      },
      "outputs": [
        {
          "output_type": "stream",
          "name": "stdout",
          "text": [
            "Found 5786 images belonging to 2 classes.\n",
            "Found 722 images belonging to 2 classes.\n",
            "Found 722 images belonging to 2 classes.\n"
          ]
        }
      ],
      "source": [
        "gen_train = ImageDataGenerator(rescale = 1./255., zoom_range = 0.2)\n",
        "gen_val = ImageDataGenerator(rescale = 1./255.)\n",
        "gen_test = ImageDataGenerator(rescale = 1./255.)\n",
        "\n",
        "train_gen = gen_train.flow_from_directory(train, batch_size = 64, class_mode = 'categorical', target_size = (299, 299))\n",
        "validation_gen = gen_val.flow_from_directory(val, batch_size = 64, class_mode = 'categorical', target_size=(299, 299))\n",
        "test_gen = gen_test.flow_from_directory(test, shuffle = False, batch_size=64, class_mode = 'categorical', target_size=(299, 299))"
      ]
    },
    {
      "cell_type": "markdown",
      "source": [
        "### Transfer Learning with InceptionResNetV2 Base Model\n",
        "\n"
      ],
      "metadata": {
        "id": "cxzK4vBs-phP"
      }
    },
    {
      "cell_type": "code",
      "execution_count": null,
      "metadata": {
        "colab": {
          "base_uri": "https://localhost:8080/"
        },
        "id": "Yhi08VSXmYn8",
        "outputId": "8db926ba-8c01-44b8-8457-d5abd5bc6f85"
      },
      "outputs": [
        {
          "output_type": "stream",
          "name": "stdout",
          "text": [
            "Downloading data from https://storage.googleapis.com/tensorflow/keras-applications/inception_resnet_v2/inception_resnet_v2_weights_tf_dim_ordering_tf_kernels.h5\n",
            "225209952/225209952 [==============================] - 9s 0us/step\n",
            "Model: \"sequential\"\n",
            "_________________________________________________________________\n",
            " Layer (type)                Output Shape              Param #   \n",
            "=================================================================\n",
            " inception_resnet_v2 (Functi  (None, 1000)             55873736  \n",
            " onal)                                                           \n",
            "                                                                 \n",
            " flatten (Flatten)           (None, 1000)              0         \n",
            "                                                                 \n",
            " dense (Dense)               (None, 256)               256256    \n",
            "                                                                 \n",
            " dense_1 (Dense)             (None, 128)               32896     \n",
            "                                                                 \n",
            " dropout (Dropout)           (None, 128)               0         \n",
            "                                                                 \n",
            " dense_2 (Dense)             (None, 2)                 258       \n",
            "                                                                 \n",
            "=================================================================\n",
            "Total params: 56,163,146\n",
            "Trainable params: 289,410\n",
            "Non-trainable params: 55,873,736\n",
            "_________________________________________________________________\n"
          ]
        }
      ],
      "source": [
        "base_model=tf.keras.applications.InceptionResNetV2(\n",
        "    weights=\"imagenet\",\n",
        "    input_shape=(299,299,3),\n",
        "    classifier_activation=\"softmax\",\n",
        ")\n",
        "\n",
        "for layer in base_model.layers:\n",
        "    layer.trainable = False\n",
        "\n",
        "model = Sequential()\n",
        "model.add(base_model)\n",
        "model.add(Flatten())\n",
        "model.add(Dense(256,activation= 'relu'))\n",
        "# model.add(BatchNormalization())\n",
        "model.add(Dense(128, activation = 'relu'))\n",
        "model.add(Dropout(0.15)) \n",
        "model.add(Dense(2, activation='softmax'))\n",
        "model.summary()"
      ]
    },
    {
      "cell_type": "code",
      "execution_count": null,
      "metadata": {
        "colab": {
          "base_uri": "https://localhost:8080/"
        },
        "id": "-ib9m8hpqWrz",
        "outputId": "935cb3a3-90c0-4f74-9703-7b9a00af0043"
      },
      "outputs": [
        {
          "output_type": "stream",
          "name": "stdout",
          "text": [
            "Epoch 1/12\n",
            "50/50 [==============================] - 1090s 22s/step - loss: 0.6395 - accuracy: 0.6988 - val_loss: 0.4245 - val_accuracy: 0.8878\n",
            "Epoch 2/12\n",
            "50/50 [==============================] - 374s 7s/step - loss: 0.5067 - accuracy: 0.7584 - val_loss: 0.3928 - val_accuracy: 0.8393\n",
            "Epoch 3/12\n",
            "50/50 [==============================] - 206s 4s/step - loss: 0.4712 - accuracy: 0.7701 - val_loss: 0.3863 - val_accuracy: 0.8144\n",
            "Epoch 4/12\n",
            "50/50 [==============================] - 136s 3s/step - loss: 0.4440 - accuracy: 0.7869 - val_loss: 0.3772 - val_accuracy: 0.8116\n",
            "Epoch 5/12\n",
            "50/50 [==============================] - 105s 2s/step - loss: 0.4353 - accuracy: 0.7912 - val_loss: 0.3909 - val_accuracy: 0.8130\n",
            "Epoch 6/12\n",
            "50/50 [==============================] - 89s 2s/step - loss: 0.4177 - accuracy: 0.8031 - val_loss: 0.3749 - val_accuracy: 0.7895\n",
            "Epoch 7/12\n",
            "50/50 [==============================] - 81s 2s/step - loss: 0.4165 - accuracy: 0.8028 - val_loss: 0.3354 - val_accuracy: 0.8421\n",
            "Epoch 8/12\n",
            "50/50 [==============================] - 79s 2s/step - loss: 0.4069 - accuracy: 0.8112 - val_loss: 0.3815 - val_accuracy: 0.7825\n",
            "Epoch 9/12\n",
            "50/50 [==============================] - 80s 2s/step - loss: 0.3937 - accuracy: 0.8159 - val_loss: 0.3058 - val_accuracy: 0.8587\n",
            "Epoch 10/12\n",
            "50/50 [==============================] - 81s 2s/step - loss: 0.3899 - accuracy: 0.8253 - val_loss: 0.3190 - val_accuracy: 0.8573\n",
            "Epoch 11/12\n",
            "50/50 [==============================] - 79s 2s/step - loss: 0.4051 - accuracy: 0.8188 - val_loss: 0.3269 - val_accuracy: 0.8213\n",
            "Epoch 12/12\n",
            "50/50 [==============================] - 80s 2s/step - loss: 0.3846 - accuracy: 0.8225 - val_loss: 0.3868 - val_accuracy: 0.7909\n"
          ]
        }
      ],
      "source": [
        "model.compile(optimizer=\"adam\", loss='binary_crossentropy', metrics=[\"accuracy\"])\n",
        "callback = tf.keras.callbacks.EarlyStopping(monitor='accuracy', patience=2)\n",
        "history = model.fit(train_gen, validation_data = validation_gen, steps_per_epoch = 50, epochs = 12, callbacks = callback)"
      ]
    },
    {
      "cell_type": "markdown",
      "source": [
        "### Save the Model"
      ],
      "metadata": {
        "id": "X3hi6Bt5-yer"
      }
    },
    {
      "cell_type": "code",
      "execution_count": null,
      "metadata": {
        "id": "6FpPIpZI2LaE"
      },
      "outputs": [],
      "source": [
        "model.save_weights(\"InceptionResNet.h5\")"
      ]
    },
    {
      "cell_type": "code",
      "source": [
        "y_pred = model.predict(test_gen)"
      ],
      "metadata": {
        "id": "myf8S4ikTHY0",
        "colab": {
          "base_uri": "https://localhost:8080/"
        },
        "outputId": "8baee154-7a1b-499d-967b-272f8138b5f3"
      },
      "execution_count": null,
      "outputs": [
        {
          "output_type": "stream",
          "name": "stdout",
          "text": [
            "12/12 [==============================] - 302s 27s/step\n"
          ]
        }
      ]
    },
    {
      "cell_type": "code",
      "source": [
        "y_pred_list = []\n",
        "\n",
        "for i in range(len(y_pred)):\n",
        "    y_pred[i] = np.where(y_pred[i] == np.amax(y_pred[i]))\n",
        "    y_pred_list.append(y_pred[i][0])\n"
      ],
      "metadata": {
        "id": "kmUWJny9_2yd"
      },
      "execution_count": null,
      "outputs": []
    },
    {
      "cell_type": "code",
      "source": [
        "y_actual = []\n",
        "\n",
        "for i in range(len(y_pred)):\n",
        "  if i <361 :\n",
        "    y_actual.append(0)\n",
        "  else:\n",
        "    y_actual.append(1)"
      ],
      "metadata": {
        "id": "b_SOnfv_C4AJ"
      },
      "execution_count": null,
      "outputs": []
    },
    {
      "cell_type": "code",
      "source": [
        "from sklearn.metrics import accuracy_score\n",
        "accuracy_score(y_actual,y_pred_list)"
      ],
      "metadata": {
        "colab": {
          "base_uri": "https://localhost:8080/"
        },
        "id": "DVGMZQFvC5kk",
        "outputId": "47b19878-6709-4dba-e4aa-5df3f61d52c2"
      },
      "execution_count": null,
      "outputs": [
        {
          "output_type": "execute_result",
          "data": {
            "text/plain": [
              "0.7174515235457064"
            ]
          },
          "metadata": {},
          "execution_count": 12
        }
      ]
    },
    {
      "cell_type": "code",
      "source": [],
      "metadata": {
        "id": "19_TSKNJFutv"
      },
      "execution_count": null,
      "outputs": []
    }
  ],
  "metadata": {
    "accelerator": "GPU",
    "colab": {
      "provenance": []
    },
    "gpuClass": "standard",
    "kernelspec": {
      "display_name": "Python 3",
      "name": "python3"
    },
    "language_info": {
      "name": "python"
    }
  },
  "nbformat": 4,
  "nbformat_minor": 0
}