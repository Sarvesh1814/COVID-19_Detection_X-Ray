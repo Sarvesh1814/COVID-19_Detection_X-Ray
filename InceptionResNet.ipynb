{
  "cells": [
    {
      "cell_type": "code",
      "execution_count": null,
      "metadata": {
        "colab": {
          "base_uri": "https://localhost:8080/"
        },
        "id": "gznllPrTcaKm",
        "outputId": "840a7be7-c842-4109-ec37-f582e694e55a"
      },
      "outputs": [
        {
          "output_type": "stream",
          "name": "stdout",
          "text": [
            "Mounted at /content/drive\n"
          ]
        }
      ],
      "source": [
        "from google.colab import drive\n",
        "drive.mount('/content/drive')"
      ]
    },
    {
      "cell_type": "code",
      "execution_count": null,
      "metadata": {
        "id": "3hIOe2kneuGF"
      },
      "outputs": [],
      "source": [
        "path = \"/content/drive/MyDrive/COVID-19_Radiography_Dataset\""
      ]
    },
    {
      "cell_type": "markdown",
      "source": [
        "### Important Libraries "
      ],
      "metadata": {
        "id": "l3tG99ex-9sd"
      }
    },
    {
      "cell_type": "code",
      "execution_count": null,
      "metadata": {
        "id": "jMnwp7Bifiti"
      },
      "outputs": [],
      "source": [
        "import numpy as np\n",
        "import pandas as pd\n",
        "import os\n",
        "\n",
        "import tensorflow as tf\n",
        "from tensorflow.keras.preprocessing.image import ImageDataGenerator\n",
        "\n",
        "from tensorflow.keras.layers import Dense, GlobalAveragePooling2D, Dropout, BatchNormalization,Flatten\n",
        "from tensorflow.keras.models import Sequential\n",
        "from tensorflow.keras.optimizers import Adam\n",
        "\n",
        "import seaborn as sns\n",
        "\n",
        "from sklearn.metrics import classification_report, confusion_matrix\n",
        "import glob\n",
        "import matplotlib.pyplot as plt\n",
        "import cv2"
      ]
    },
    {
      "cell_type": "markdown",
      "source": [
        "### Image Preprocessing using Canny Edge Detector"
      ],
      "metadata": {
        "id": "-6VYMDvs-Zd6"
      }
    },
    {
      "cell_type": "code",
      "execution_count": null,
      "metadata": {
        "id": "DDm5CJw-g_B4"
      },
      "outputs": [],
      "source": [
        "def pre_processing(image):\n",
        "    image = cv2.cvtColor(image, cv2.COLOR_BGR2GRAY)\n",
        "    image = cv2.Canny(image, 80, 100)\n",
        "    return image"
      ]
    },
    {
      "cell_type": "code",
      "execution_count": null,
      "metadata": {
        "colab": {
          "base_uri": "https://localhost:8080/"
        },
        "id": "grhazdzpneLU",
        "outputId": "b160ea7c-25b2-49a3-a255-2d8e63057d0a"
      },
      "outputs": [
        {
          "output_type": "execute_result",
          "data": {
            "text/plain": [
              "<keras.preprocessing.image.ImageDataGenerator at 0x7f2a99396910>"
            ]
          },
          "metadata": {},
          "execution_count": 5
        }
      ],
      "source": [
        "tf.keras.preprocessing.image.ImageDataGenerator(\n",
        "    rescale=1/255,\n",
        "    preprocessing_function= pre_processing\n",
        ")"
      ]
    },
    {
      "cell_type": "markdown",
      "source": [
        "### Image Data Generators "
      ],
      "metadata": {
        "id": "R82bCshy-hSC"
      }
    },
    {
      "cell_type": "code",
      "execution_count": null,
      "metadata": {
        "id": "5ek_mY-lvghK"
      },
      "outputs": [],
      "source": [
        "train=path+\"/Train\"\n",
        "val=path+\"/Val\"\n",
        "test=path+\"/Test\""
      ]
    },
    {
      "cell_type": "code",
      "execution_count": null,
      "metadata": {
        "colab": {
          "base_uri": "https://localhost:8080/"
        },
        "id": "eQAoMvydqYZo",
        "outputId": "b31b1160-2ded-4b6f-8c0f-8b0ece9798f2"
      },
      "outputs": [
        {
          "output_type": "stream",
          "name": "stdout",
          "text": [
            "Found 5786 images belonging to 2 classes.\n",
            "Found 722 images belonging to 2 classes.\n",
            "Found 722 images belonging to 2 classes.\n"
          ]
        }
      ],
      "source": [
        "gen_train = ImageDataGenerator(rescale = 1./255., zoom_range = 0.2)\n",
        "gen_val = ImageDataGenerator(rescale = 1./255.)\n",
        "gen_test = ImageDataGenerator(rescale = 1./255.)\n",
        "\n",
        "train_gen = gen_train.flow_from_directory(train, batch_size = 64, class_mode = 'categorical', target_size = (299, 299))\n",
        "validation_gen = gen_val.flow_from_directory(val, batch_size = 64, class_mode = 'categorical', target_size=(299, 299))\n",
        "test_gen = gen_test.flow_from_directory(test, shuffle = False, batch_size=64, class_mode = 'categorical', target_size=(299, 299))"
      ]
    },
    {
      "cell_type": "markdown",
      "source": [
        "### Transfer Learning with VGG19 Base Model\n",
        "\n"
      ],
      "metadata": {
        "id": "cxzK4vBs-phP"
      }
    },
    {
      "cell_type": "code",
      "execution_count": null,
      "metadata": {
        "colab": {
          "base_uri": "https://localhost:8080/"
        },
        "id": "Yhi08VSXmYn8",
        "outputId": "f9beb030-2001-4025-bfa3-1d1a1f223a4b"
      },
      "outputs": [
        {
          "output_type": "stream",
          "name": "stdout",
          "text": [
            "Downloading data from https://storage.googleapis.com/tensorflow/keras-applications/inception_resnet_v2/inception_resnet_v2_weights_tf_dim_ordering_tf_kernels.h5\n",
            "225209952/225209952 [==============================] - 11s 0us/step\n",
            "Model: \"sequential_1\"\n",
            "_________________________________________________________________\n",
            " Layer (type)                Output Shape              Param #   \n",
            "=================================================================\n",
            " inception_resnet_v2 (Functi  (None, 1000)             55873736  \n",
            " onal)                                                           \n",
            "                                                                 \n",
            " flatten_1 (Flatten)         (None, 1000)              0         \n",
            "                                                                 \n",
            " dense_3 (Dense)             (None, 512)               512512    \n",
            "                                                                 \n",
            " dropout_2 (Dropout)         (None, 512)               0         \n",
            "                                                                 \n",
            " dense_4 (Dense)             (None, 128)               65664     \n",
            "                                                                 \n",
            " dropout_3 (Dropout)         (None, 128)               0         \n",
            "                                                                 \n",
            " dense_5 (Dense)             (None, 2)                 258       \n",
            "                                                                 \n",
            "=================================================================\n",
            "Total params: 56,452,170\n",
            "Trainable params: 578,434\n",
            "Non-trainable params: 55,873,736\n",
            "_________________________________________________________________\n"
          ]
        }
      ],
      "source": [
        "base_model=tf.keras.applications.InceptionResNetV2(\n",
        "    weights=\"imagenet\",\n",
        "    input_shape=(299,299,3),\n",
        "    classifier_activation=\"softmax\",\n",
        ")\n",
        "\n",
        "for layer in base_model.layers:\n",
        "    layer.trainable = False\n",
        "\n",
        "model = Sequential()\n",
        "model.add(base_model)\n",
        "model.add(Flatten())\n",
        "model.add(Dense(512,activation= 'relu'))\n",
        "model.add(Dropout(0.15))\n",
        "model.add(Dense(128, activation = 'relu'))\n",
        "model.add(Dropout(0.15)) \n",
        "model.add(Dense(2, activation='softmax'))\n",
        "model.summary()"
      ]
    },
    {
      "cell_type": "code",
      "execution_count": null,
      "metadata": {
        "colab": {
          "base_uri": "https://localhost:8080/"
        },
        "id": "-ib9m8hpqWrz",
        "outputId": "55f0d9ba-25bf-4779-81fd-708ce7db7900"
      },
      "outputs": [
        {
          "output_type": "stream",
          "name": "stdout",
          "text": [
            "Epoch 1/12\n",
            "50/50 [==============================] - 1331s 26s/step - loss: 0.6138 - accuracy: 0.7138 - val_loss: 0.4043 - val_accuracy: 0.8740\n",
            "Epoch 2/12\n",
            "50/50 [==============================] - 457s 9s/step - loss: 0.4995 - accuracy: 0.7541 - val_loss: 0.3398 - val_accuracy: 0.8837\n",
            "Epoch 3/12\n",
            "50/50 [==============================] - 252s 5s/step - loss: 0.4620 - accuracy: 0.7764 - val_loss: 0.3670 - val_accuracy: 0.8352\n",
            "Epoch 4/12\n",
            "50/50 [==============================] - 148s 3s/step - loss: 0.4409 - accuracy: 0.7925 - val_loss: 0.3672 - val_accuracy: 0.8283\n",
            "Epoch 5/12\n",
            "50/50 [==============================] - 105s 2s/step - loss: 0.4283 - accuracy: 0.7966 - val_loss: 0.3589 - val_accuracy: 0.8158\n",
            "Epoch 6/12\n",
            "50/50 [==============================] - 93s 2s/step - loss: 0.4181 - accuracy: 0.8058 - val_loss: 0.3848 - val_accuracy: 0.7784\n",
            "Epoch 7/12\n",
            "50/50 [==============================] - 85s 2s/step - loss: 0.3930 - accuracy: 0.8232 - val_loss: 0.3754 - val_accuracy: 0.7909\n",
            "Epoch 8/12\n",
            "50/50 [==============================] - 81s 2s/step - loss: 0.3978 - accuracy: 0.8197 - val_loss: 0.3223 - val_accuracy: 0.8504\n",
            "Epoch 9/12\n",
            "50/50 [==============================] - 76s 2s/step - loss: 0.3954 - accuracy: 0.8156 - val_loss: 0.3505 - val_accuracy: 0.8366\n"
          ]
        }
      ],
      "source": [
        "model.compile(optimizer=\"adam\", loss='binary_crossentropy', metrics=[\"accuracy\"])\n",
        "callback = tf.keras.callbacks.EarlyStopping(monitor='accuracy', patience=2)\n",
        "history = model.fit(train_gen, validation_data = validation_gen, steps_per_epoch = 50, epochs = 12, callbacks = callback)"
      ]
    },
    {
      "cell_type": "code",
      "source": [
        "model.fit(train_gen, validation_data = validation_gen, steps_per_epoch = 50, epochs = 1, callbacks = callback)"
      ],
      "metadata": {
        "colab": {
          "base_uri": "https://localhost:8080/"
        },
        "id": "hQKVOoA0lWcB",
        "outputId": "a27bd419-186d-43cf-c07f-59bb945ec792"
      },
      "execution_count": null,
      "outputs": [
        {
          "output_type": "stream",
          "name": "stdout",
          "text": [
            "50/50 [==============================] - 79s 2s/step - loss: 0.3772 - accuracy: 0.8313 - val_loss: 0.3972 - val_accuracy: 0.7867\n"
          ]
        },
        {
          "output_type": "execute_result",
          "data": {
            "text/plain": [
              "<keras.callbacks.History at 0x7f28593e78b0>"
            ]
          },
          "metadata": {},
          "execution_count": 23
        }
      ]
    },
    {
      "cell_type": "markdown",
      "source": [
        "### Save the Model"
      ],
      "metadata": {
        "id": "X3hi6Bt5-yer"
      }
    },
    {
      "cell_type": "code",
      "execution_count": null,
      "metadata": {
        "id": "6FpPIpZI2LaE"
      },
      "outputs": [],
      "source": [
        "model.save_weights(\"InceptionResNet.h5\")"
      ]
    },
    {
      "cell_type": "code",
      "source": [
        "y_pred = model.predict(test_gen)"
      ],
      "metadata": {
        "id": "myf8S4ikTHY0",
        "colab": {
          "base_uri": "https://localhost:8080/"
        },
        "outputId": "3053f5c4-6715-4927-9cbb-74f096d96ce5"
      },
      "execution_count": null,
      "outputs": [
        {
          "output_type": "stream",
          "name": "stdout",
          "text": [
            "12/12 [==============================] - 7s 598ms/step\n"
          ]
        }
      ]
    },
    {
      "cell_type": "code",
      "source": [
        "y_pred_list = []\n",
        "\n",
        "for i in range(len(y_pred)):\n",
        "    y_pred[i] = np.where(y_pred[i] == np.amax(y_pred[i]))\n",
        "    y_pred_list.append(y_pred[i][0])\n"
      ],
      "metadata": {
        "id": "kmUWJny9_2yd",
        "colab": {
          "base_uri": "https://localhost:8080/"
        },
        "outputId": "a0391130-b573-4b95-8780-ca4c403ff97c"
      },
      "execution_count": null,
      "outputs": [
        {
          "output_type": "stream",
          "name": "stderr",
          "text": [
            "<ipython-input-25-aaf20d1ce428>:4: DeprecationWarning: setting an array element with a sequence. This was supported in some cases where the elements are arrays with a single element. For example `np.array([1, np.array([2])], dtype=int)`. In the future this will raise the same ValueError as `np.array([1, [2]], dtype=int)`.\n",
            "  y_pred[i] = np.where(y_pred[i] == np.amax(y_pred[i]))\n"
          ]
        }
      ]
    },
    {
      "cell_type": "code",
      "source": [
        "y_actual = []\n",
        "\n",
        "for i in range(len(y_pred)):\n",
        "  if i <361 :\n",
        "    y_actual.append(0)\n",
        "  else:\n",
        "    y_actual.append(1)"
      ],
      "metadata": {
        "id": "b_SOnfv_C4AJ"
      },
      "execution_count": null,
      "outputs": []
    },
    {
      "cell_type": "code",
      "source": [
        "from sklearn.metrics import accuracy_score\n",
        "accuracy_score(y_actual,y_pred_list)"
      ],
      "metadata": {
        "colab": {
          "base_uri": "https://localhost:8080/"
        },
        "id": "DVGMZQFvC5kk",
        "outputId": "6ccff1c5-4d2a-4a63-ac53-d7ddfb5b8e53"
      },
      "execution_count": null,
      "outputs": [
        {
          "output_type": "execute_result",
          "data": {
            "text/plain": [
              "0.7368421052631579"
            ]
          },
          "metadata": {},
          "execution_count": 26
        }
      ]
    }
  ],
  "metadata": {
    "accelerator": "GPU",
    "colab": {
      "provenance": []
    },
    "gpuClass": "standard",
    "kernelspec": {
      "display_name": "Python 3",
      "name": "python3"
    },
    "language_info": {
      "name": "python"
    }
  },
  "nbformat": 4,
  "nbformat_minor": 0
}