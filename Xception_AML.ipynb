{
  "nbformat": 4,
  "nbformat_minor": 0,
  "metadata": {
    "colab": {
      "provenance": []
    },
    "kernelspec": {
      "name": "python3",
      "display_name": "Python 3"
    },
    "language_info": {
      "name": "python"
    },
    "accelerator": "GPU",
    "gpuClass": "standard"
  },
  "cells": [
    {
      "cell_type": "code",
      "execution_count": null,
      "metadata": {
        "colab": {
          "base_uri": "https://localhost:8080/"
        },
        "id": "gznllPrTcaKm",
        "outputId": "0a2c1876-a04b-47c0-f9c5-c02dc2b7103e"
      },
      "outputs": [
        {
          "output_type": "stream",
          "name": "stdout",
          "text": [
            "Drive already mounted at /content/drive; to attempt to forcibly remount, call drive.mount(\"/content/drive\", force_remount=True).\n"
          ]
        }
      ],
      "source": [
        "from google.colab import drive\n",
        "drive.mount('/content/drive')"
      ]
    },
    {
      "cell_type": "code",
      "source": [
        "path = \"/content/drive/MyDrive/COVID-19_Radiography_Dataset\""
      ],
      "metadata": {
        "id": "3hIOe2kneuGF"
      },
      "execution_count": null,
      "outputs": []
    },
    {
      "cell_type": "code",
      "source": [
        "import numpy as np\n",
        "import pandas as pd\n",
        "import os\n",
        "\n",
        "import tensorflow as tf\n",
        "from tensorflow.keras.preprocessing.image import ImageDataGenerator\n",
        "\n",
        "from tensorflow.keras.layers import Dense, GlobalAveragePooling2D, Dropout\n",
        "from tensorflow.keras.models import Sequential\n",
        "from tensorflow.keras.optimizers import Adam\n",
        "\n",
        "import seaborn as sns\n",
        "\n",
        "from sklearn.metrics import classification_report, confusion_matrix\n",
        "import glob\n",
        "import matplotlib.pyplot as plt\n",
        "import cv2"
      ],
      "metadata": {
        "id": "jMnwp7Bifiti"
      },
      "execution_count": null,
      "outputs": []
    },
    {
      "cell_type": "code",
      "source": [
        "train = \"/content/drive/MyDrive/COVID-19_Radiography_Dataset/Train\" \n",
        "val =\"/content/drive/MyDrive/COVID-19_Radiography_Dataset/Val\"\n",
        "test = \"/content/drive/MyDrive/COVID-19_Radiography_Dataset/Test\"\n",
        "\n",
        "gen_train = ImageDataGenerator(rescale = 1./255., zoom_range = 0.2,)\n",
        "gen_val = ImageDataGenerator(rescale = 1./255.)\n",
        "gen_test = ImageDataGenerator(rescale = 1./255.)\n",
        "\n",
        "train_gen = gen_train.flow_from_directory(train, batch_size = 64, class_mode = 'categorical', target_size = (220, 220))\n",
        "validation_gen = gen_val.flow_from_directory(val, batch_size = 64, class_mode = 'categorical', target_size=(220, 220))\n",
        "test_gen = gen_test.flow_from_directory(test, shuffle = False, batch_size=64, class_mode = 'categorical', target_size=(220, 220))"
      ],
      "metadata": {
        "colab": {
          "base_uri": "https://localhost:8080/"
        },
        "id": "eQAoMvydqYZo",
        "outputId": "70415f88-c9ce-4ffc-a5b8-c1eec4aa6a85"
      },
      "execution_count": null,
      "outputs": [
        {
          "output_type": "stream",
          "name": "stdout",
          "text": [
            "Found 5786 images belonging to 2 classes.\n",
            "Found 722 images belonging to 2 classes.\n",
            "Found 722 images belonging to 2 classes.\n"
          ]
        }
      ]
    },
    {
      "cell_type": "code",
      "source": [
        "from tensorflow.keras.applications import Xception\n",
        "\n",
        "base_model = Xception(weights='imagenet', input_shape=(220, 220, 3), include_top=False)\n",
        "\n",
        "for layer in base_model.layers:\n",
        "    layer.trainable = False\n",
        "\n",
        "model = Sequential()\n",
        "model.add(base_model)\n",
        "model.add(GlobalAveragePooling2D())\n",
        "model.add(Dense(256, activation='relu'))\n",
        "model.add(Dropout(0.2))\n",
        "model.add(Dense(2, activation='softmax'))\n",
        "model.summary()"
      ],
      "metadata": {
        "colab": {
          "base_uri": "https://localhost:8080/"
        },
        "id": "Yhi08VSXmYn8",
        "outputId": "e5e940a1-f743-4fa2-ece2-de9b81f3d93c"
      },
      "execution_count": null,
      "outputs": [
        {
          "output_type": "stream",
          "name": "stdout",
          "text": [
            "Model: \"sequential\"\n",
            "_________________________________________________________________\n",
            " Layer (type)                Output Shape              Param #   \n",
            "=================================================================\n",
            " xception (Functional)       (None, 7, 7, 2048)        20861480  \n",
            "                                                                 \n",
            " global_average_pooling2d (G  (None, 2048)             0         \n",
            " lobalAveragePooling2D)                                          \n",
            "                                                                 \n",
            " dense (Dense)               (None, 256)               524544    \n",
            "                                                                 \n",
            " dropout (Dropout)           (None, 256)               0         \n",
            "                                                                 \n",
            " dense_1 (Dense)             (None, 2)                 514       \n",
            "                                                                 \n",
            "=================================================================\n",
            "Total params: 21,386,538\n",
            "Trainable params: 525,058\n",
            "Non-trainable params: 20,861,480\n",
            "_________________________________________________________________\n"
          ]
        }
      ]
    },
    {
      "cell_type": "code",
      "source": [
        "model.compile(optimizer=\"adam\", loss='binary_crossentropy', metrics=[\"accuracy\"])\n",
        "history = model.fit(train_gen, validation_data = validation_gen, steps_per_epoch = 32, epochs = 10)"
      ],
      "metadata": {
        "colab": {
          "base_uri": "https://localhost:8080/"
        },
        "id": "-ib9m8hpqWrz",
        "outputId": "428ee29f-1b74-4737-ca7b-13fe09502097"
      },
      "execution_count": null,
      "outputs": [
        {
          "output_type": "stream",
          "name": "stdout",
          "text": [
            "Epoch 1/10\n",
            "32/32 [==============================] - 1166s 37s/step - loss: 0.4154 - accuracy: 0.8091 - val_loss: 0.2993 - val_accuracy: 0.8560\n",
            "Epoch 2/10\n",
            "32/32 [==============================] - 387s 12s/step - loss: 0.3325 - accuracy: 0.8589 - val_loss: 0.3171 - val_accuracy: 0.8573\n",
            "Epoch 3/10\n",
            "32/32 [==============================] - 276s 9s/step - loss: 0.2986 - accuracy: 0.8735 - val_loss: 0.3111 - val_accuracy: 0.8435\n",
            "Epoch 4/10\n",
            "32/32 [==============================] - 192s 6s/step - loss: 0.3120 - accuracy: 0.8633 - val_loss: 0.3229 - val_accuracy: 0.8269\n",
            "Epoch 5/10\n",
            "32/32 [==============================] - 134s 4s/step - loss: 0.3049 - accuracy: 0.8622 - val_loss: 0.2139 - val_accuracy: 0.9030\n",
            "Epoch 6/10\n",
            "32/32 [==============================] - 82s 3s/step - loss: 0.2916 - accuracy: 0.8706 - val_loss: 0.2498 - val_accuracy: 0.8823\n",
            "Epoch 7/10\n",
            "32/32 [==============================] - 86s 3s/step - loss: 0.2846 - accuracy: 0.8794 - val_loss: 0.2538 - val_accuracy: 0.8740\n",
            "Epoch 8/10\n",
            "32/32 [==============================] - 60s 2s/step - loss: 0.2540 - accuracy: 0.8906 - val_loss: 0.3315 - val_accuracy: 0.8407\n",
            "Epoch 9/10\n",
            "32/32 [==============================] - 49s 2s/step - loss: 0.2633 - accuracy: 0.8809 - val_loss: 0.3208 - val_accuracy: 0.8449\n",
            "Epoch 10/10\n",
            "32/32 [==============================] - 43s 1s/step - loss: 0.2509 - accuracy: 0.8931 - val_loss: 0.1630 - val_accuracy: 0.9349\n"
          ]
        }
      ]
    },
    {
      "cell_type": "code",
      "source": [
        "model.save(\"Xception_model.h5\")"
      ],
      "metadata": {
        "id": "znkKf3oR-FJN"
      },
      "execution_count": null,
      "outputs": []
    },
    {
      "cell_type": "code",
      "source": [
        "from keras.callbacks import ModelCheckpoint\n",
        "\n",
        "checkpoint = ModelCheckpoint('best_model.h5', monitor='val_loss', save_best_only=True)\n",
        "model.compile(optimizer=\"adam\", loss='binary_crossentropy', metrics=[\"accuracy\"])\n",
        "history1 = model.fit(train_gen, validation_data = validation_gen, steps_per_epoch = 32, epochs = 10, callbacks=[checkpoint])\n",
        "best_model = model.load_weights('best_model.h5')"
      ],
      "metadata": {
        "colab": {
          "base_uri": "https://localhost:8080/"
        },
        "id": "xgPP5HIA2hKC",
        "outputId": "b92e44df-f678-447b-da74-73b6db16fb0e"
      },
      "execution_count": null,
      "outputs": [
        {
          "output_type": "stream",
          "name": "stdout",
          "text": [
            "Epoch 1/10\n",
            "32/32 [==============================] - 44s 1s/step - loss: 0.2559 - accuracy: 0.8896 - val_loss: 0.2526 - val_accuracy: 0.8753\n",
            "Epoch 2/10\n",
            "32/32 [==============================] - 43s 1s/step - loss: 0.2564 - accuracy: 0.8900 - val_loss: 0.2619 - val_accuracy: 0.8864\n",
            "Epoch 3/10\n",
            "32/32 [==============================] - 40s 1s/step - loss: 0.2427 - accuracy: 0.9019 - val_loss: 0.3051 - val_accuracy: 0.8573\n",
            "Epoch 4/10\n",
            "32/32 [==============================] - 39s 1s/step - loss: 0.2423 - accuracy: 0.8980 - val_loss: 0.2225 - val_accuracy: 0.8975\n",
            "Epoch 5/10\n",
            "32/32 [==============================] - 37s 1s/step - loss: 0.2394 - accuracy: 0.8970 - val_loss: 0.1254 - val_accuracy: 0.9474\n",
            "Epoch 6/10\n",
            "32/32 [==============================] - 40s 1s/step - loss: 0.2335 - accuracy: 0.9020 - val_loss: 0.4019 - val_accuracy: 0.8130\n",
            "Epoch 7/10\n",
            "32/32 [==============================] - 34s 1s/step - loss: 0.2400 - accuracy: 0.8925 - val_loss: 0.2245 - val_accuracy: 0.9017\n",
            "Epoch 8/10\n",
            "32/32 [==============================] - 34s 1s/step - loss: 0.2348 - accuracy: 0.9023 - val_loss: 0.2213 - val_accuracy: 0.8961\n",
            "Epoch 9/10\n",
            "32/32 [==============================] - 34s 1s/step - loss: 0.2323 - accuracy: 0.9038 - val_loss: 0.2705 - val_accuracy: 0.8615\n",
            "Epoch 10/10\n",
            "32/32 [==============================] - 36s 1s/step - loss: 0.2023 - accuracy: 0.9204 - val_loss: 0.2239 - val_accuracy: 0.8934\n"
          ]
        }
      ]
    },
    {
      "cell_type": "code",
      "source": [
        "model.save(\"Xception_model1.h5\")"
      ],
      "metadata": {
        "id": "1LfDArxPH-IT"
      },
      "execution_count": null,
      "outputs": []
    },
    {
      "cell_type": "code",
      "source": [
        "import pickle\n",
        "with open('history.pickle', 'wb') as file:\n",
        "    pickle.dump(history.history, file)"
      ],
      "metadata": {
        "id": "pyNytZWn1oSv"
      },
      "execution_count": null,
      "outputs": []
    },
    {
      "cell_type": "code",
      "source": [
        "loss, accuracy = model.evaluate(test_gen)\n",
        "\n",
        "# print the loss and accuracy values\n",
        "print('Test loss:', loss)\n",
        "print('Test accuracy:', accuracy)"
      ],
      "metadata": {
        "colab": {
          "base_uri": "https://localhost:8080/"
        },
        "id": "FSQAHk6bzjDB",
        "outputId": "da1c8ad2-2205-41fe-984a-d648f94d6c95"
      },
      "execution_count": null,
      "outputs": [
        {
          "output_type": "stream",
          "name": "stdout",
          "text": [
            "12/12 [==============================] - 4s 295ms/step - loss: 0.3572 - accuracy: 0.8393\n",
            "Test loss: 0.3571702837944031\n",
            "Test accuracy: 0.8393352031707764\n"
          ]
        }
      ]
    },
    {
      "cell_type": "code",
      "source": [
        "loss, accuracy = model.evaluate(train_gen)\n",
        "\n",
        "# print the loss and accuracy values\n",
        "print('Train loss:', loss)\n",
        "print('Train accuracy:', accuracy)"
      ],
      "metadata": {
        "colab": {
          "base_uri": "https://localhost:8080/"
        },
        "id": "owDOoFwzz7Fr",
        "outputId": "642e36dd-2bb1-4951-e2a4-1fe9ed162508"
      },
      "execution_count": null,
      "outputs": [
        {
          "output_type": "stream",
          "name": "stdout",
          "text": [
            "91/91 [==============================] - 86s 944ms/step - loss: 0.3013 - accuracy: 0.8566\n",
            "Train loss: 0.30134332180023193\n",
            "Train accuracy: 0.8565502762794495\n"
          ]
        }
      ]
    },
    {
      "cell_type": "code",
      "source": [
        "loss, accuracy = model.evaluate(validation_gen)\n",
        "\n",
        "# print the loss and accuracy values\n",
        "print('Validation loss:', loss)\n",
        "print('Validation accuracy:', accuracy)"
      ],
      "metadata": {
        "colab": {
          "base_uri": "https://localhost:8080/"
        },
        "id": "skSWkAx5z7PP",
        "outputId": "406c72a7-fc6b-45c6-e631-b97b2c206d05"
      },
      "execution_count": null,
      "outputs": [
        {
          "output_type": "stream",
          "name": "stdout",
          "text": [
            "12/12 [==============================] - 4s 292ms/step - loss: 0.1254 - accuracy: 0.9474\n",
            "Validation loss: 0.12541070580482483\n",
            "Validation accuracy: 0.9473684430122375\n"
          ]
        }
      ]
    },
    {
      "cell_type": "code",
      "source": [
        "import matplotlib.pyplot as plt\n",
        "\n",
        "fig, ax = plt.subplots(figsize=(12, 7))\n",
        "ax.plot(history.history['accuracy'], c = \"orange\")\n",
        "ax.plot(history.history['val_accuracy'], c = \"black\")\n",
        "ax.set_title('Model accuracy')\n",
        "ax.set_ylabel('Accuracy')\n",
        "ax.set_xlabel('Epoch')\n",
        "ax.legend(['Train', 'Validation'], loc='upper left')\n",
        "plt.show()"
      ],
      "metadata": {
        "colab": {
          "base_uri": "https://localhost:8080/",
          "height": 458
        },
        "id": "T04lsy800HEy",
        "outputId": "46fba015-b9d6-4687-cd5a-ad6c241b73b6"
      },
      "execution_count": null,
      "outputs": [
        {
          "output_type": "display_data",
          "data": {
            "text/plain": [
              "<Figure size 864x504 with 1 Axes>"
            ],
            "image/png": "[encoded data removed]"
          },
          "metadata": {
            "needs_background": "light"
          }
        }
      ]
    },
    {
      "cell_type": "code",
      "source": [
        "fig, ax = plt.subplots(figsize=(12, 7))\n",
        "ax.plot(history.history['loss'], c =\"red\")\n",
        "ax.plot(history.history['val_loss'], c = \"black\")\n",
        "ax.set_title('Model loss')\n",
        "ax.set_ylabel('Loss')\n",
        "ax.set_xlabel('Epoch')\n",
        "ax.legend(['Train', 'Validation'], loc='upper left')\n",
        "plt.show()"
      ],
      "metadata": {
        "colab": {
          "base_uri": "https://localhost:8080/",
          "height": 458
        },
        "id": "4RN5V1px074T",
        "outputId": "17ec7c9a-b223-4094-a088-cd93f99e4d01"
      },
      "execution_count": null,
      "outputs": [
        {
          "output_type": "display_data",
          "data": {
            "text/plain": [
              "<Figure size 864x504 with 1 Axes>"
            ],
            "image/png": "[encoded data removed]"
          },
          "metadata": {
            "needs_background": "light"
          }
        }
      ]
    }
  ]
}