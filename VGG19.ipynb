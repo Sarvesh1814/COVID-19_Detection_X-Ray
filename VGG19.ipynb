{
  "cells": [
    {
      "cell_type": "code",
      "execution_count": null,
      "metadata": {
        "colab": {
          "base_uri": "https://localhost:8080/"
        },
        "id": "gznllPrTcaKm",
        "outputId": "b61643b9-859a-4248-a25a-6b4c844775dd"
      },
      "outputs": [
        {
          "output_type": "stream",
          "name": "stdout",
          "text": [
            "Mounted at /content/drive\n"
          ]
        }
      ],
      "source": [
        "from google.colab import drive\n",
        "drive.mount('/content/drive')"
      ]
    },
    {
      "cell_type": "code",
      "execution_count": null,
      "metadata": {
        "id": "3hIOe2kneuGF"
      },
      "outputs": [],
      "source": [
        "path = \"/content/drive/.shortcut-targets-by-id/18nj7Xok8Hu2jUgOuoiWJPFBZ6v9a-o4A/COVID-19_Radiography_Dataset\""
      ]
    },
    {
      "cell_type": "markdown",
      "metadata": {
        "id": "l3tG99ex-9sd"
      },
      "source": [
        "### Important Libraries "
      ]
    },
    {
      "cell_type": "code",
      "execution_count": null,
      "metadata": {
        "id": "jMnwp7Bifiti"
      },
      "outputs": [],
      "source": [
        "import numpy as np\n",
        "import pandas as pd\n",
        "import os\n",
        "\n",
        "import tensorflow as tf\n",
        "from tensorflow.keras.preprocessing.image import ImageDataGenerator\n",
        "\n",
        "from tensorflow.keras.layers import Dense, GlobalAveragePooling2D, Dropout, BatchNormalization,Flatten\n",
        "from tensorflow.keras.models import Sequential\n",
        "from tensorflow.keras.optimizers import Adam\n",
        "\n",
        "import seaborn as sns\n",
        "\n",
        "from sklearn.metrics import classification_report, confusion_matrix\n",
        "import glob\n",
        "import matplotlib.pyplot as plt\n",
        "import cv2"
      ]
    },
    {
      "cell_type": "markdown",
      "metadata": {
        "id": "-6VYMDvs-Zd6"
      },
      "source": [
        "### Image Preprocessing "
      ]
    },
    {
      "cell_type": "code",
      "execution_count": null,
      "metadata": {
        "id": "DDm5CJw-g_B4"
      },
      "outputs": [],
      "source": [
        "def pre_processing(image):\n",
        "    image = cv2.cvtColor(image, cv2.COLOR_BGR2GRAY)\n",
        "    image = cv2.Canny(image, 80, 100)\n",
        "    return image"
      ]
    },
    {
      "cell_type": "code",
      "execution_count": null,
      "metadata": {
        "colab": {
          "base_uri": "https://localhost:8080/"
        },
        "id": "grhazdzpneLU",
        "outputId": "02710b5b-558a-47d7-b366-e8570ef33bdf"
      },
      "outputs": [
        {
          "output_type": "execute_result",
          "data": {
            "text/plain": [
              "<keras.preprocessing.image.ImageDataGenerator at 0x7fa0880ef970>"
            ]
          },
          "metadata": {},
          "execution_count": 6
        }
      ],
      "source": [
        "tf.keras.preprocessing.image.ImageDataGenerator(\n",
        "    rescale=1/255,\n",
        "    preprocessing_function= pre_processing\n",
        ")"
      ]
    },
    {
      "cell_type": "markdown",
      "metadata": {
        "id": "R82bCshy-hSC"
      },
      "source": [
        "### Image Data Generators "
      ]
    },
    {
      "cell_type": "code",
      "execution_count": null,
      "metadata": {
        "id": "5ek_mY-lvghK"
      },
      "outputs": [],
      "source": [
        "train=path+\"/Train\"\n",
        "val=path+\"/Val\"\n",
        "test=path+\"/Test\""
      ]
    },
    {
      "cell_type": "code",
      "execution_count": null,
      "metadata": {
        "colab": {
          "base_uri": "https://localhost:8080/"
        },
        "id": "eQAoMvydqYZo",
        "outputId": "2ef3f6c7-20fb-439b-e57c-acec2aa2159a"
      },
      "outputs": [
        {
          "output_type": "stream",
          "name": "stdout",
          "text": [
            "Found 5786 images belonging to 2 classes.\n",
            "Found 722 images belonging to 2 classes.\n",
            "Found 722 images belonging to 2 classes.\n"
          ]
        }
      ],
      "source": [
        "gen_train = ImageDataGenerator(rescale = 1./255., zoom_range = 0.2)\n",
        "gen_val = ImageDataGenerator(rescale = 1./255.)\n",
        "gen_test = ImageDataGenerator(rescale = 1./255.)\n",
        "\n",
        "train_gen = gen_train.flow_from_directory(train, batch_size = 64, class_mode = 'categorical', target_size = (224, 224))\n",
        "validation_gen = gen_val.flow_from_directory(val, batch_size = 64, class_mode = 'categorical', target_size=(224, 224))\n",
        "test_gen = gen_test.flow_from_directory(test, shuffle = False, batch_size=64, class_mode = 'categorical', target_size=(224, 224))"
      ]
    },
    {
      "cell_type": "markdown",
      "metadata": {
        "id": "cxzK4vBs-phP"
      },
      "source": [
        "### Transfer Learning with VGG19 Base Model\n",
        "\n"
      ]
    },
    {
      "cell_type": "code",
      "execution_count": null,
      "metadata": {
        "colab": {
          "base_uri": "https://localhost:8080/"
        },
        "id": "Yhi08VSXmYn8",
        "outputId": "2abfc738-74e2-42b2-e5f3-d729fc358f6b"
      },
      "outputs": [
        {
          "output_type": "stream",
          "name": "stdout",
          "text": [
            "Downloading data from https://storage.googleapis.com/tensorflow/keras-applications/vgg19/vgg19_weights_tf_dim_ordering_tf_kernels.h5\n",
            "574710816/574710816 [==============================] - 5s 0us/step\n",
            "Model: \"sequential\"\n",
            "_________________________________________________________________\n",
            " Layer (type)                Output Shape              Param #   \n",
            "=================================================================\n",
            " vgg19 (Functional)          (None, 1000)              143667240 \n",
            "                                                                 \n",
            " flatten (Flatten)           (None, 1000)              0         \n",
            "                                                                 \n",
            " dense (Dense)               (None, 512)               512512    \n",
            "                                                                 \n",
            " dropout (Dropout)           (None, 512)               0         \n",
            "                                                                 \n",
            " batch_normalization (BatchN  (None, 512)              2048      \n",
            " ormalization)                                                   \n",
            "                                                                 \n",
            " dense_1 (Dense)             (None, 128)               65664     \n",
            "                                                                 \n",
            " dropout_1 (Dropout)         (None, 128)               0         \n",
            "                                                                 \n",
            " batch_normalization_1 (Batc  (None, 128)              512       \n",
            " hNormalization)                                                 \n",
            "                                                                 \n",
            " dense_2 (Dense)             (None, 2)                 258       \n",
            "                                                                 \n",
            "=================================================================\n",
            "Total params: 144,248,234\n",
            "Trainable params: 579,714\n",
            "Non-trainable params: 143,668,520\n",
            "_________________________________________________________________\n"
          ]
        }
      ],
      "source": [
        "base_model=tf.keras.applications.VGG19(\n",
        "    weights=\"imagenet\",\n",
        "    input_shape=(224,224,3),\n",
        "    classifier_activation=\"softmax\",\n",
        ")\n",
        "\n",
        "for layer in base_model.layers:\n",
        "    layer.trainable = False\n",
        "\n",
        "model = Sequential()\n",
        "model.add(base_model)\n",
        "model.add(Flatten())\n",
        "model.add(Dense(512,kernel_initializer='he_uniform'))\n",
        "model.add(Dropout(0.3))\n",
        "model.add(BatchNormalization())\n",
        "model.add(Dense(128, activation = 'relu'))\n",
        "model.add(Dropout(0.3))\n",
        "model.add(BatchNormalization()) \n",
        "model.add(Dense(2, activation='softmax'))\n",
        "model.summary()"
      ]
    },
    {
      "cell_type": "code",
      "execution_count": null,
      "metadata": {
        "colab": {
          "base_uri": "https://localhost:8080/"
        },
        "id": "-ib9m8hpqWrz",
        "outputId": "48732e2f-24c7-488e-b130-7bfde5ba4818"
      },
      "outputs": [
        {
          "output_type": "stream",
          "name": "stdout",
          "text": [
            "Epoch 1/15\n",
            "50/50 [==============================] - 626s 12s/step - loss: 0.6040 - accuracy: 0.7425 - val_loss: 0.6848 - val_accuracy: 0.5000\n",
            "Epoch 2/15\n",
            "50/50 [==============================] - 228s 5s/step - loss: 0.5629 - accuracy: 0.7487 - val_loss: 0.6753 - val_accuracy: 0.6025\n",
            "Epoch 3/15\n",
            "50/50 [==============================] - 138s 3s/step - loss: 0.5328 - accuracy: 0.7634 - val_loss: 0.6766 - val_accuracy: 0.5000\n",
            "Epoch 4/15\n",
            "50/50 [==============================] - 94s 2s/step - loss: 0.5189 - accuracy: 0.7717 - val_loss: 0.6657 - val_accuracy: 0.5097\n",
            "Epoch 5/15\n",
            "50/50 [==============================] - 67s 1s/step - loss: 0.4958 - accuracy: 0.7799 - val_loss: 0.6439 - val_accuracy: 0.5360\n",
            "Epoch 6/15\n",
            "50/50 [==============================] - 61s 1s/step - loss: 0.4920 - accuracy: 0.7769 - val_loss: 0.6191 - val_accuracy: 0.5789\n",
            "Epoch 7/15\n",
            "50/50 [==============================] - 60s 1s/step - loss: 0.4945 - accuracy: 0.7788 - val_loss: 0.6064 - val_accuracy: 0.6150\n",
            "Epoch 8/15\n",
            "50/50 [==============================] - 59s 1s/step - loss: 0.4708 - accuracy: 0.7881 - val_loss: 0.5601 - val_accuracy: 0.6773\n",
            "Epoch 9/15\n",
            "50/50 [==============================] - 57s 1s/step - loss: 0.4885 - accuracy: 0.7770 - val_loss: 0.5267 - val_accuracy: 0.7618\n",
            "Epoch 10/15\n",
            "50/50 [==============================] - 58s 1s/step - loss: 0.4655 - accuracy: 0.7944 - val_loss: 0.5033 - val_accuracy: 0.6981\n",
            "Epoch 11/15\n",
            "50/50 [==============================] - 57s 1s/step - loss: 0.4683 - accuracy: 0.7891 - val_loss: 0.5128 - val_accuracy: 0.6704\n",
            "Epoch 12/15\n",
            "50/50 [==============================] - 57s 1s/step - loss: 0.4591 - accuracy: 0.7979 - val_loss: 0.4126 - val_accuracy: 0.7950\n",
            "Epoch 13/15\n",
            "50/50 [==============================] - 58s 1s/step - loss: 0.4618 - accuracy: 0.7953 - val_loss: 0.3822 - val_accuracy: 0.8033\n",
            "Epoch 14/15\n",
            "50/50 [==============================] - 57s 1s/step - loss: 0.4634 - accuracy: 0.7913 - val_loss: 0.3345 - val_accuracy: 0.8573\n",
            "Epoch 15/15\n",
            "50/50 [==============================] - 57s 1s/step - loss: 0.4433 - accuracy: 0.8036 - val_loss: 0.3875 - val_accuracy: 0.7964\n"
          ]
        }
      ],
      "source": [
        "model.compile(optimizer=\"adam\", loss='binary_crossentropy', metrics=[\"accuracy\"])\n",
        "callback = tf.keras.callbacks.EarlyStopping(monitor='accuracy', patience=4)\n",
        "history = model.fit(train_gen, validation_data = validation_gen, steps_per_epoch = 50, epochs = 15, callbacks = callback)"
      ]
    },
    {
      "cell_type": "code",
      "source": [
        "np.save('VGG19-history.npy',history.history)"
      ],
      "metadata": {
        "id": "DMC9EvRJvjiP"
      },
      "execution_count": null,
      "outputs": []
    },
    {
      "cell_type": "code",
      "source": [],
      "metadata": {
        "id": "xb4oCDGGwOLY"
      },
      "execution_count": null,
      "outputs": []
    },
    {
      "cell_type": "code",
      "source": [
        "# history=np.load('VGG19-history.npy',allow_pickle='TRUE').item()"
      ],
      "metadata": {
        "id": "sdItxhjdwBmv"
      },
      "execution_count": null,
      "outputs": []
    },
    {
      "cell_type": "markdown",
      "metadata": {
        "id": "X3hi6Bt5-yer"
      },
      "source": [
        "### Save the Model"
      ]
    },
    {
      "cell_type": "code",
      "execution_count": null,
      "metadata": {
        "id": "6FpPIpZI2LaE"
      },
      "outputs": [],
      "source": [
        "model.save_weights(\"VGG19.h5\")"
      ]
    },
    {
      "cell_type": "code",
      "source": [
        "model.save(\"VGG19-Model.h5\")"
      ],
      "metadata": {
        "id": "h9PyHKhGxV6q"
      },
      "execution_count": null,
      "outputs": []
    },
    {
      "cell_type": "code",
      "execution_count": null,
      "metadata": {
        "colab": {
          "base_uri": "https://localhost:8080/"
        },
        "id": "myf8S4ikTHY0",
        "outputId": "39d6c37e-ad67-4054-89a2-a1c2fc6b184f"
      },
      "outputs": [
        {
          "output_type": "stream",
          "name": "stdout",
          "text": [
            "12/12 [==============================] - 168s 15s/step\n"
          ]
        }
      ],
      "source": [
        "y_pred = model.predict(test_gen)"
      ]
    },
    {
      "cell_type": "code",
      "execution_count": null,
      "metadata": {
        "id": "kmUWJny9_2yd",
        "colab": {
          "base_uri": "https://localhost:8080/",
          "height": 17
        },
        "outputId": "206bfec4-cd70-4836-8e31-e23c79213768"
      },
      "outputs": [
        {
          "output_type": "display_data",
          "data": {
            "text/plain": [
              "<IPython.core.display.Javascript object>"
            ],
            "application/javascript": [
              "\n",
              "    async function download(id, filename, size) {\n",
              "      if (!google.colab.kernel.accessAllowed) {\n",
              "        return;\n",
              "      }\n",
              "      const div = document.createElement('div');\n",
              "      const label = document.createElement('label');\n",
              "      label.textContent = `Downloading \"${filename}\": `;\n",
              "      div.appendChild(label);\n",
              "      const progress = document.createElement('progress');\n",
              "      progress.max = size;\n",
              "      div.appendChild(progress);\n",
              "      document.body.appendChild(div);\n",
              "\n",
              "      const buffers = [];\n",
              "      let downloaded = 0;\n",
              "\n",
              "      const channel = await google.colab.kernel.comms.open(id);\n",
              "      // Send a message to notify the kernel that we're ready.\n",
              "      channel.send({})\n",
              "\n",
              "      for await (const message of channel.messages) {\n",
              "        // Send a message to notify the kernel that we're ready.\n",
              "        channel.send({})\n",
              "        if (message.buffers) {\n",
              "          for (const buffer of message.buffers) {\n",
              "            buffers.push(buffer);\n",
              "            downloaded += buffer.byteLength;\n",
              "            progress.value = downloaded;\n",
              "          }\n",
              "        }\n",
              "      }\n",
              "      const blob = new Blob(buffers, {type: 'application/binary'});\n",
              "      const a = document.createElement('a');\n",
              "      a.href = window.URL.createObjectURL(blob);\n",
              "      a.download = filename;\n",
              "      div.appendChild(a);\n",
              "      a.click();\n",
              "      div.remove();\n",
              "    }\n",
              "  "
            ]
          },
          "metadata": {}
        },
        {
          "output_type": "display_data",
          "data": {
            "text/plain": [
              "<IPython.core.display.Javascript object>"
            ],
            "application/javascript": [
              "download(\"download_38c66fe8-42d8-42a6-b4bb-bb8ab111c00d\", \"VGG19-Model.h5\", 581741048)"
            ]
          },
          "metadata": {}
        }
      ],
      "source": [
        "from google.colab import files\n",
        "files.download('VGG19-Model.h5') \n"
      ]
    },
    {
      "cell_type": "code",
      "source": [
        "files.download('VGG19-history.npy')"
      ],
      "metadata": {
        "colab": {
          "base_uri": "https://localhost:8080/",
          "height": 17
        },
        "id": "v3afTtcUzqsQ",
        "outputId": "711e9f14-f2ab-4bc9-e2c8-6a646d71762c"
      },
      "execution_count": null,
      "outputs": [
        {
          "output_type": "display_data",
          "data": {
            "text/plain": [
              "<IPython.core.display.Javascript object>"
            ],
            "application/javascript": [
              "\n",
              "    async function download(id, filename, size) {\n",
              "      if (!google.colab.kernel.accessAllowed) {\n",
              "        return;\n",
              "      }\n",
              "      const div = document.createElement('div');\n",
              "      const label = document.createElement('label');\n",
              "      label.textContent = `Downloading \"${filename}\": `;\n",
              "      div.appendChild(label);\n",
              "      const progress = document.createElement('progress');\n",
              "      progress.max = size;\n",
              "      div.appendChild(progress);\n",
              "      document.body.appendChild(div);\n",
              "\n",
              "      const buffers = [];\n",
              "      let downloaded = 0;\n",
              "\n",
              "      const channel = await google.colab.kernel.comms.open(id);\n",
              "      // Send a message to notify the kernel that we're ready.\n",
              "      channel.send({})\n",
              "\n",
              "      for await (const message of channel.messages) {\n",
              "        // Send a message to notify the kernel that we're ready.\n",
              "        channel.send({})\n",
              "        if (message.buffers) {\n",
              "          for (const buffer of message.buffers) {\n",
              "            buffers.push(buffer);\n",
              "            downloaded += buffer.byteLength;\n",
              "            progress.value = downloaded;\n",
              "          }\n",
              "        }\n",
              "      }\n",
              "      const blob = new Blob(buffers, {type: 'application/binary'});\n",
              "      const a = document.createElement('a');\n",
              "      a.href = window.URL.createObjectURL(blob);\n",
              "      a.download = filename;\n",
              "      div.appendChild(a);\n",
              "      a.click();\n",
              "      div.remove();\n",
              "    }\n",
              "  "
            ]
          },
          "metadata": {}
        },
        {
          "output_type": "display_data",
          "data": {
            "text/plain": [
              "<IPython.core.display.Javascript object>"
            ],
            "application/javascript": [
              "download(\"download_a4207ac9-0516-4c8a-bc16-d2c4f9c3d7a1\", \"VGG19-history.npy\", 902)"
            ]
          },
          "metadata": {}
        }
      ]
    },
    {
      "cell_type": "code",
      "source": [],
      "metadata": {
        "id": "cvnKEUpbz25y"
      },
      "execution_count": null,
      "outputs": []
    }
  ],
  "metadata": {
    "accelerator": "GPU",
    "colab": {
      "provenance": []
    },
    "gpuClass": "standard",
    "kernelspec": {
      "display_name": "Python 3",
      "name": "python3"
    },
    "language_info": {
      "name": "python"
    }
  },
  "nbformat": 4,
  "nbformat_minor": 0
}